{
  "nbformat": 4,
  "nbformat_minor": 0,
  "metadata": {
    "colab": {
      "provenance": []
    },
    "kernelspec": {
      "name": "python3",
      "display_name": "Python 3"
    },
    "language_info": {
      "name": "python"
    }
  },
  "cells": [
    {
      "cell_type": "code",
      "execution_count": 1,
      "metadata": {
        "id": "1aEFNW--eh1S"
      },
      "outputs": [],
      "source": [
        "import pandas as pd"
      ]
    },
    {
      "cell_type": "code",
      "source": [
        "df = pd.read_csv('cinemaTicket_Ref.csv')\n",
        "df"
      ],
      "metadata": {
        "colab": {
          "base_uri": "https://localhost:8080/",
          "height": 424
        },
        "id": "TeoBnVT3ejDo",
        "outputId": "a5ba2bee-7284-4084-f1b2-bbcc5780b4bf"
      },
      "execution_count": 2,
      "outputs": [
        {
          "output_type": "execute_result",
          "data": {
            "text/plain": [
              "        film_code  cinema_code  total_sales  tickets_sold  tickets_out  \\\n",
              "0            1492          304      3900000            26            0   \n",
              "1            1492          352      3360000            42            0   \n",
              "2            1492          489      2560000            32            0   \n",
              "3            1492          429      1200000            12            0   \n",
              "4            1492          524      1200000            15            0   \n",
              "...           ...          ...          ...           ...          ...   \n",
              "142519       1569          495      1320000            22            0   \n",
              "142520       1569          474      1200000            15            0   \n",
              "142521       1569          524      1060000             8            0   \n",
              "142522       1569          529       600000             5            0   \n",
              "142523       1569          486       250000             5            0   \n",
              "\n",
              "        show_time  occu_perc  ticket_price  ticket_use    capacity  \\\n",
              "0               4       4.26      150000.0          26  610.328638   \n",
              "1               5       8.08       80000.0          42  519.801980   \n",
              "2               4      20.00       80000.0          32  160.000000   \n",
              "3               1      11.01      100000.0          12  108.991826   \n",
              "4               3      16.67       80000.0          15   89.982004   \n",
              "...           ...        ...           ...         ...         ...   \n",
              "142519          2       3.86       60000.0          22  569.948187   \n",
              "142520          1      65.22       80000.0          15   22.999080   \n",
              "142521          3       9.20      132500.0           8   86.956522   \n",
              "142522          2       5.00      120000.0           5  100.000000   \n",
              "142523          1       1.79       50000.0           5  279.329609   \n",
              "\n",
              "              date  month  quarter  day  \n",
              "0       2018-05-05      5        2    5  \n",
              "1       2018-05-05      5        2    5  \n",
              "2       2018-05-05      5        2    5  \n",
              "3       2018-05-05      5        2    5  \n",
              "4       2018-05-05      5        2    5  \n",
              "...            ...    ...      ...  ...  \n",
              "142519  2018-11-04     11        4    4  \n",
              "142520  2018-11-04     11        4    4  \n",
              "142521  2018-11-04     11        4    4  \n",
              "142522  2018-11-04     11        4    4  \n",
              "142523  2018-11-04     11        4    4  \n",
              "\n",
              "[142524 rows x 14 columns]"
            ],
            "text/html": [
              "\n",
              "  <div id=\"df-938033fd-12df-4fcd-aa5a-6a6cd7b11496\" class=\"colab-df-container\">\n",
              "    <div>\n",
              "<style scoped>\n",
              "    .dataframe tbody tr th:only-of-type {\n",
              "        vertical-align: middle;\n",
              "    }\n",
              "\n",
              "    .dataframe tbody tr th {\n",
              "        vertical-align: top;\n",
              "    }\n",
              "\n",
              "    .dataframe thead th {\n",
              "        text-align: right;\n",
              "    }\n",
              "</style>\n",
              "<table border=\"1\" class=\"dataframe\">\n",
              "  <thead>\n",
              "    <tr style=\"text-align: right;\">\n",
              "      <th></th>\n",
              "      <th>film_code</th>\n",
              "      <th>cinema_code</th>\n",
              "      <th>total_sales</th>\n",
              "      <th>tickets_sold</th>\n",
              "      <th>tickets_out</th>\n",
              "      <th>show_time</th>\n",
              "      <th>occu_perc</th>\n",
              "      <th>ticket_price</th>\n",
              "      <th>ticket_use</th>\n",
              "      <th>capacity</th>\n",
              "      <th>date</th>\n",
              "      <th>month</th>\n",
              "      <th>quarter</th>\n",
              "      <th>day</th>\n",
              "    </tr>\n",
              "  </thead>\n",
              "  <tbody>\n",
              "    <tr>\n",
              "      <th>0</th>\n",
              "      <td>1492</td>\n",
              "      <td>304</td>\n",
              "      <td>3900000</td>\n",
              "      <td>26</td>\n",
              "      <td>0</td>\n",
              "      <td>4</td>\n",
              "      <td>4.26</td>\n",
              "      <td>150000.0</td>\n",
              "      <td>26</td>\n",
              "      <td>610.328638</td>\n",
              "      <td>2018-05-05</td>\n",
              "      <td>5</td>\n",
              "      <td>2</td>\n",
              "      <td>5</td>\n",
              "    </tr>\n",
              "    <tr>\n",
              "      <th>1</th>\n",
              "      <td>1492</td>\n",
              "      <td>352</td>\n",
              "      <td>3360000</td>\n",
              "      <td>42</td>\n",
              "      <td>0</td>\n",
              "      <td>5</td>\n",
              "      <td>8.08</td>\n",
              "      <td>80000.0</td>\n",
              "      <td>42</td>\n",
              "      <td>519.801980</td>\n",
              "      <td>2018-05-05</td>\n",
              "      <td>5</td>\n",
              "      <td>2</td>\n",
              "      <td>5</td>\n",
              "    </tr>\n",
              "    <tr>\n",
              "      <th>2</th>\n",
              "      <td>1492</td>\n",
              "      <td>489</td>\n",
              "      <td>2560000</td>\n",
              "      <td>32</td>\n",
              "      <td>0</td>\n",
              "      <td>4</td>\n",
              "      <td>20.00</td>\n",
              "      <td>80000.0</td>\n",
              "      <td>32</td>\n",
              "      <td>160.000000</td>\n",
              "      <td>2018-05-05</td>\n",
              "      <td>5</td>\n",
              "      <td>2</td>\n",
              "      <td>5</td>\n",
              "    </tr>\n",
              "    <tr>\n",
              "      <th>3</th>\n",
              "      <td>1492</td>\n",
              "      <td>429</td>\n",
              "      <td>1200000</td>\n",
              "      <td>12</td>\n",
              "      <td>0</td>\n",
              "      <td>1</td>\n",
              "      <td>11.01</td>\n",
              "      <td>100000.0</td>\n",
              "      <td>12</td>\n",
              "      <td>108.991826</td>\n",
              "      <td>2018-05-05</td>\n",
              "      <td>5</td>\n",
              "      <td>2</td>\n",
              "      <td>5</td>\n",
              "    </tr>\n",
              "    <tr>\n",
              "      <th>4</th>\n",
              "      <td>1492</td>\n",
              "      <td>524</td>\n",
              "      <td>1200000</td>\n",
              "      <td>15</td>\n",
              "      <td>0</td>\n",
              "      <td>3</td>\n",
              "      <td>16.67</td>\n",
              "      <td>80000.0</td>\n",
              "      <td>15</td>\n",
              "      <td>89.982004</td>\n",
              "      <td>2018-05-05</td>\n",
              "      <td>5</td>\n",
              "      <td>2</td>\n",
              "      <td>5</td>\n",
              "    </tr>\n",
              "    <tr>\n",
              "      <th>...</th>\n",
              "      <td>...</td>\n",
              "      <td>...</td>\n",
              "      <td>...</td>\n",
              "      <td>...</td>\n",
              "      <td>...</td>\n",
              "      <td>...</td>\n",
              "      <td>...</td>\n",
              "      <td>...</td>\n",
              "      <td>...</td>\n",
              "      <td>...</td>\n",
              "      <td>...</td>\n",
              "      <td>...</td>\n",
              "      <td>...</td>\n",
              "      <td>...</td>\n",
              "    </tr>\n",
              "    <tr>\n",
              "      <th>142519</th>\n",
              "      <td>1569</td>\n",
              "      <td>495</td>\n",
              "      <td>1320000</td>\n",
              "      <td>22</td>\n",
              "      <td>0</td>\n",
              "      <td>2</td>\n",
              "      <td>3.86</td>\n",
              "      <td>60000.0</td>\n",
              "      <td>22</td>\n",
              "      <td>569.948187</td>\n",
              "      <td>2018-11-04</td>\n",
              "      <td>11</td>\n",
              "      <td>4</td>\n",
              "      <td>4</td>\n",
              "    </tr>\n",
              "    <tr>\n",
              "      <th>142520</th>\n",
              "      <td>1569</td>\n",
              "      <td>474</td>\n",
              "      <td>1200000</td>\n",
              "      <td>15</td>\n",
              "      <td>0</td>\n",
              "      <td>1</td>\n",
              "      <td>65.22</td>\n",
              "      <td>80000.0</td>\n",
              "      <td>15</td>\n",
              "      <td>22.999080</td>\n",
              "      <td>2018-11-04</td>\n",
              "      <td>11</td>\n",
              "      <td>4</td>\n",
              "      <td>4</td>\n",
              "    </tr>\n",
              "    <tr>\n",
              "      <th>142521</th>\n",
              "      <td>1569</td>\n",
              "      <td>524</td>\n",
              "      <td>1060000</td>\n",
              "      <td>8</td>\n",
              "      <td>0</td>\n",
              "      <td>3</td>\n",
              "      <td>9.20</td>\n",
              "      <td>132500.0</td>\n",
              "      <td>8</td>\n",
              "      <td>86.956522</td>\n",
              "      <td>2018-11-04</td>\n",
              "      <td>11</td>\n",
              "      <td>4</td>\n",
              "      <td>4</td>\n",
              "    </tr>\n",
              "    <tr>\n",
              "      <th>142522</th>\n",
              "      <td>1569</td>\n",
              "      <td>529</td>\n",
              "      <td>600000</td>\n",
              "      <td>5</td>\n",
              "      <td>0</td>\n",
              "      <td>2</td>\n",
              "      <td>5.00</td>\n",
              "      <td>120000.0</td>\n",
              "      <td>5</td>\n",
              "      <td>100.000000</td>\n",
              "      <td>2018-11-04</td>\n",
              "      <td>11</td>\n",
              "      <td>4</td>\n",
              "      <td>4</td>\n",
              "    </tr>\n",
              "    <tr>\n",
              "      <th>142523</th>\n",
              "      <td>1569</td>\n",
              "      <td>486</td>\n",
              "      <td>250000</td>\n",
              "      <td>5</td>\n",
              "      <td>0</td>\n",
              "      <td>1</td>\n",
              "      <td>1.79</td>\n",
              "      <td>50000.0</td>\n",
              "      <td>5</td>\n",
              "      <td>279.329609</td>\n",
              "      <td>2018-11-04</td>\n",
              "      <td>11</td>\n",
              "      <td>4</td>\n",
              "      <td>4</td>\n",
              "    </tr>\n",
              "  </tbody>\n",
              "</table>\n",
              "<p>142524 rows × 14 columns</p>\n",
              "</div>\n",
              "    <div class=\"colab-df-buttons\">\n",
              "\n",
              "  <div class=\"colab-df-container\">\n",
              "    <button class=\"colab-df-convert\" onclick=\"convertToInteractive('df-938033fd-12df-4fcd-aa5a-6a6cd7b11496')\"\n",
              "            title=\"Convert this dataframe to an interactive table.\"\n",
              "            style=\"display:none;\">\n",
              "\n",
              "  <svg xmlns=\"http://www.w3.org/2000/svg\" height=\"24px\" viewBox=\"0 -960 960 960\">\n",
              "    <path d=\"M120-120v-720h720v720H120Zm60-500h600v-160H180v160Zm220 220h160v-160H400v160Zm0 220h160v-160H400v160ZM180-400h160v-160H180v160Zm440 0h160v-160H620v160ZM180-180h160v-160H180v160Zm440 0h160v-160H620v160Z\"/>\n",
              "  </svg>\n",
              "    </button>\n",
              "\n",
              "  <style>\n",
              "    .colab-df-container {\n",
              "      display:flex;\n",
              "      gap: 12px;\n",
              "    }\n",
              "\n",
              "    .colab-df-convert {\n",
              "      background-color: #E8F0FE;\n",
              "      border: none;\n",
              "      border-radius: 50%;\n",
              "      cursor: pointer;\n",
              "      display: none;\n",
              "      fill: #1967D2;\n",
              "      height: 32px;\n",
              "      padding: 0 0 0 0;\n",
              "      width: 32px;\n",
              "    }\n",
              "\n",
              "    .colab-df-convert:hover {\n",
              "      background-color: #E2EBFA;\n",
              "      box-shadow: 0px 1px 2px rgba(60, 64, 67, 0.3), 0px 1px 3px 1px rgba(60, 64, 67, 0.15);\n",
              "      fill: #174EA6;\n",
              "    }\n",
              "\n",
              "    .colab-df-buttons div {\n",
              "      margin-bottom: 4px;\n",
              "    }\n",
              "\n",
              "    [theme=dark] .colab-df-convert {\n",
              "      background-color: #3B4455;\n",
              "      fill: #D2E3FC;\n",
              "    }\n",
              "\n",
              "    [theme=dark] .colab-df-convert:hover {\n",
              "      background-color: #434B5C;\n",
              "      box-shadow: 0px 1px 3px 1px rgba(0, 0, 0, 0.15);\n",
              "      filter: drop-shadow(0px 1px 2px rgba(0, 0, 0, 0.3));\n",
              "      fill: #FFFFFF;\n",
              "    }\n",
              "  </style>\n",
              "\n",
              "    <script>\n",
              "      const buttonEl =\n",
              "        document.querySelector('#df-938033fd-12df-4fcd-aa5a-6a6cd7b11496 button.colab-df-convert');\n",
              "      buttonEl.style.display =\n",
              "        google.colab.kernel.accessAllowed ? 'block' : 'none';\n",
              "\n",
              "      async function convertToInteractive(key) {\n",
              "        const element = document.querySelector('#df-938033fd-12df-4fcd-aa5a-6a6cd7b11496');\n",
              "        const dataTable =\n",
              "          await google.colab.kernel.invokeFunction('convertToInteractive',\n",
              "                                                    [key], {});\n",
              "        if (!dataTable) return;\n",
              "\n",
              "        const docLinkHtml = 'Like what you see? Visit the ' +\n",
              "          '<a target=\"_blank\" href=https://colab.research.google.com/notebooks/data_table.ipynb>data table notebook</a>'\n",
              "          + ' to learn more about interactive tables.';\n",
              "        element.innerHTML = '';\n",
              "        dataTable['output_type'] = 'display_data';\n",
              "        await google.colab.output.renderOutput(dataTable, element);\n",
              "        const docLink = document.createElement('div');\n",
              "        docLink.innerHTML = docLinkHtml;\n",
              "        element.appendChild(docLink);\n",
              "      }\n",
              "    </script>\n",
              "  </div>\n",
              "\n",
              "\n",
              "    <div id=\"df-d78e58f0-49cd-42eb-886a-13900c673d70\">\n",
              "      <button class=\"colab-df-quickchart\" onclick=\"quickchart('df-d78e58f0-49cd-42eb-886a-13900c673d70')\"\n",
              "                title=\"Suggest charts\"\n",
              "                style=\"display:none;\">\n",
              "\n",
              "<svg xmlns=\"http://www.w3.org/2000/svg\" height=\"24px\"viewBox=\"0 0 24 24\"\n",
              "     width=\"24px\">\n",
              "    <g>\n",
              "        <path d=\"M19 3H5c-1.1 0-2 .9-2 2v14c0 1.1.9 2 2 2h14c1.1 0 2-.9 2-2V5c0-1.1-.9-2-2-2zM9 17H7v-7h2v7zm4 0h-2V7h2v10zm4 0h-2v-4h2v4z\"/>\n",
              "    </g>\n",
              "</svg>\n",
              "      </button>\n",
              "\n",
              "<style>\n",
              "  .colab-df-quickchart {\n",
              "      --bg-color: #E8F0FE;\n",
              "      --fill-color: #1967D2;\n",
              "      --hover-bg-color: #E2EBFA;\n",
              "      --hover-fill-color: #174EA6;\n",
              "      --disabled-fill-color: #AAA;\n",
              "      --disabled-bg-color: #DDD;\n",
              "  }\n",
              "\n",
              "  [theme=dark] .colab-df-quickchart {\n",
              "      --bg-color: #3B4455;\n",
              "      --fill-color: #D2E3FC;\n",
              "      --hover-bg-color: #434B5C;\n",
              "      --hover-fill-color: #FFFFFF;\n",
              "      --disabled-bg-color: #3B4455;\n",
              "      --disabled-fill-color: #666;\n",
              "  }\n",
              "\n",
              "  .colab-df-quickchart {\n",
              "    background-color: var(--bg-color);\n",
              "    border: none;\n",
              "    border-radius: 50%;\n",
              "    cursor: pointer;\n",
              "    display: none;\n",
              "    fill: var(--fill-color);\n",
              "    height: 32px;\n",
              "    padding: 0;\n",
              "    width: 32px;\n",
              "  }\n",
              "\n",
              "  .colab-df-quickchart:hover {\n",
              "    background-color: var(--hover-bg-color);\n",
              "    box-shadow: 0 1px 2px rgba(60, 64, 67, 0.3), 0 1px 3px 1px rgba(60, 64, 67, 0.15);\n",
              "    fill: var(--button-hover-fill-color);\n",
              "  }\n",
              "\n",
              "  .colab-df-quickchart-complete:disabled,\n",
              "  .colab-df-quickchart-complete:disabled:hover {\n",
              "    background-color: var(--disabled-bg-color);\n",
              "    fill: var(--disabled-fill-color);\n",
              "    box-shadow: none;\n",
              "  }\n",
              "\n",
              "  .colab-df-spinner {\n",
              "    border: 2px solid var(--fill-color);\n",
              "    border-color: transparent;\n",
              "    border-bottom-color: var(--fill-color);\n",
              "    animation:\n",
              "      spin 1s steps(1) infinite;\n",
              "  }\n",
              "\n",
              "  @keyframes spin {\n",
              "    0% {\n",
              "      border-color: transparent;\n",
              "      border-bottom-color: var(--fill-color);\n",
              "      border-left-color: var(--fill-color);\n",
              "    }\n",
              "    20% {\n",
              "      border-color: transparent;\n",
              "      border-left-color: var(--fill-color);\n",
              "      border-top-color: var(--fill-color);\n",
              "    }\n",
              "    30% {\n",
              "      border-color: transparent;\n",
              "      border-left-color: var(--fill-color);\n",
              "      border-top-color: var(--fill-color);\n",
              "      border-right-color: var(--fill-color);\n",
              "    }\n",
              "    40% {\n",
              "      border-color: transparent;\n",
              "      border-right-color: var(--fill-color);\n",
              "      border-top-color: var(--fill-color);\n",
              "    }\n",
              "    60% {\n",
              "      border-color: transparent;\n",
              "      border-right-color: var(--fill-color);\n",
              "    }\n",
              "    80% {\n",
              "      border-color: transparent;\n",
              "      border-right-color: var(--fill-color);\n",
              "      border-bottom-color: var(--fill-color);\n",
              "    }\n",
              "    90% {\n",
              "      border-color: transparent;\n",
              "      border-bottom-color: var(--fill-color);\n",
              "    }\n",
              "  }\n",
              "</style>\n",
              "\n",
              "      <script>\n",
              "        async function quickchart(key) {\n",
              "          const quickchartButtonEl =\n",
              "            document.querySelector('#' + key + ' button');\n",
              "          quickchartButtonEl.disabled = true;  // To prevent multiple clicks.\n",
              "          quickchartButtonEl.classList.add('colab-df-spinner');\n",
              "          try {\n",
              "            const charts = await google.colab.kernel.invokeFunction(\n",
              "                'suggestCharts', [key], {});\n",
              "          } catch (error) {\n",
              "            console.error('Error during call to suggestCharts:', error);\n",
              "          }\n",
              "          quickchartButtonEl.classList.remove('colab-df-spinner');\n",
              "          quickchartButtonEl.classList.add('colab-df-quickchart-complete');\n",
              "        }\n",
              "        (() => {\n",
              "          let quickchartButtonEl =\n",
              "            document.querySelector('#df-d78e58f0-49cd-42eb-886a-13900c673d70 button');\n",
              "          quickchartButtonEl.style.display =\n",
              "            google.colab.kernel.accessAllowed ? 'block' : 'none';\n",
              "        })();\n",
              "      </script>\n",
              "    </div>\n",
              "\n",
              "  <div id=\"id_c25cbb02-9df9-4e72-bb40-f4baac153c35\">\n",
              "    <style>\n",
              "      .colab-df-generate {\n",
              "        background-color: #E8F0FE;\n",
              "        border: none;\n",
              "        border-radius: 50%;\n",
              "        cursor: pointer;\n",
              "        display: none;\n",
              "        fill: #1967D2;\n",
              "        height: 32px;\n",
              "        padding: 0 0 0 0;\n",
              "        width: 32px;\n",
              "      }\n",
              "\n",
              "      .colab-df-generate:hover {\n",
              "        background-color: #E2EBFA;\n",
              "        box-shadow: 0px 1px 2px rgba(60, 64, 67, 0.3), 0px 1px 3px 1px rgba(60, 64, 67, 0.15);\n",
              "        fill: #174EA6;\n",
              "      }\n",
              "\n",
              "      [theme=dark] .colab-df-generate {\n",
              "        background-color: #3B4455;\n",
              "        fill: #D2E3FC;\n",
              "      }\n",
              "\n",
              "      [theme=dark] .colab-df-generate:hover {\n",
              "        background-color: #434B5C;\n",
              "        box-shadow: 0px 1px 3px 1px rgba(0, 0, 0, 0.15);\n",
              "        filter: drop-shadow(0px 1px 2px rgba(0, 0, 0, 0.3));\n",
              "        fill: #FFFFFF;\n",
              "      }\n",
              "    </style>\n",
              "    <button class=\"colab-df-generate\" onclick=\"generateWithVariable('df')\"\n",
              "            title=\"Generate code using this dataframe.\"\n",
              "            style=\"display:none;\">\n",
              "\n",
              "  <svg xmlns=\"http://www.w3.org/2000/svg\" height=\"24px\"viewBox=\"0 0 24 24\"\n",
              "       width=\"24px\">\n",
              "    <path d=\"M7,19H8.4L18.45,9,17,7.55,7,17.6ZM5,21V16.75L18.45,3.32a2,2,0,0,1,2.83,0l1.4,1.43a1.91,1.91,0,0,1,.58,1.4,1.91,1.91,0,0,1-.58,1.4L9.25,21ZM18.45,9,17,7.55Zm-12,3A5.31,5.31,0,0,0,4.9,8.1,5.31,5.31,0,0,0,1,6.5,5.31,5.31,0,0,0,4.9,4.9,5.31,5.31,0,0,0,6.5,1,5.31,5.31,0,0,0,8.1,4.9,5.31,5.31,0,0,0,12,6.5,5.46,5.46,0,0,0,6.5,12Z\"/>\n",
              "  </svg>\n",
              "    </button>\n",
              "    <script>\n",
              "      (() => {\n",
              "      const buttonEl =\n",
              "        document.querySelector('#id_c25cbb02-9df9-4e72-bb40-f4baac153c35 button.colab-df-generate');\n",
              "      buttonEl.style.display =\n",
              "        google.colab.kernel.accessAllowed ? 'block' : 'none';\n",
              "\n",
              "      buttonEl.onclick = () => {\n",
              "        google.colab.notebook.generateWithVariable('df');\n",
              "      }\n",
              "      })();\n",
              "    </script>\n",
              "  </div>\n",
              "\n",
              "    </div>\n",
              "  </div>\n"
            ],
            "application/vnd.google.colaboratory.intrinsic+json": {
              "type": "dataframe",
              "variable_name": "df"
            }
          },
          "metadata": {},
          "execution_count": 2
        }
      ]
    },
    {
      "cell_type": "code",
      "source": [
        "df.shape"
      ],
      "metadata": {
        "colab": {
          "base_uri": "https://localhost:8080/"
        },
        "id": "GumYTaLiejLr",
        "outputId": "5423e23f-38a2-4cfa-bfc2-88c72f5284a2"
      },
      "execution_count": 3,
      "outputs": [
        {
          "output_type": "execute_result",
          "data": {
            "text/plain": [
              "(142524, 14)"
            ]
          },
          "metadata": {},
          "execution_count": 3
        }
      ]
    },
    {
      "cell_type": "code",
      "source": [
        "df.columns"
      ],
      "metadata": {
        "colab": {
          "base_uri": "https://localhost:8080/"
        },
        "id": "7Ry1j6iJejOy",
        "outputId": "ef559f35-5488-47cd-bb32-438895773d3c"
      },
      "execution_count": 4,
      "outputs": [
        {
          "output_type": "execute_result",
          "data": {
            "text/plain": [
              "Index(['film_code', 'cinema_code', 'total_sales', 'tickets_sold',\n",
              "       'tickets_out', 'show_time', 'occu_perc', 'ticket_price', 'ticket_use',\n",
              "       'capacity', 'date', 'month', 'quarter', 'day'],\n",
              "      dtype='object')"
            ]
          },
          "metadata": {},
          "execution_count": 4
        }
      ]
    },
    {
      "cell_type": "code",
      "source": [
        "df.dropna()\n",
        "df"
      ],
      "metadata": {
        "colab": {
          "base_uri": "https://localhost:8080/",
          "height": 424
        },
        "id": "e6KH5tIoejRv",
        "outputId": "6f4b783c-7651-47d7-9136-1017a701ea10"
      },
      "execution_count": 5,
      "outputs": [
        {
          "output_type": "execute_result",
          "data": {
            "text/plain": [
              "        film_code  cinema_code  total_sales  tickets_sold  tickets_out  \\\n",
              "0            1492          304      3900000            26            0   \n",
              "1            1492          352      3360000            42            0   \n",
              "2            1492          489      2560000            32            0   \n",
              "3            1492          429      1200000            12            0   \n",
              "4            1492          524      1200000            15            0   \n",
              "...           ...          ...          ...           ...          ...   \n",
              "142519       1569          495      1320000            22            0   \n",
              "142520       1569          474      1200000            15            0   \n",
              "142521       1569          524      1060000             8            0   \n",
              "142522       1569          529       600000             5            0   \n",
              "142523       1569          486       250000             5            0   \n",
              "\n",
              "        show_time  occu_perc  ticket_price  ticket_use    capacity  \\\n",
              "0               4       4.26      150000.0          26  610.328638   \n",
              "1               5       8.08       80000.0          42  519.801980   \n",
              "2               4      20.00       80000.0          32  160.000000   \n",
              "3               1      11.01      100000.0          12  108.991826   \n",
              "4               3      16.67       80000.0          15   89.982004   \n",
              "...           ...        ...           ...         ...         ...   \n",
              "142519          2       3.86       60000.0          22  569.948187   \n",
              "142520          1      65.22       80000.0          15   22.999080   \n",
              "142521          3       9.20      132500.0           8   86.956522   \n",
              "142522          2       5.00      120000.0           5  100.000000   \n",
              "142523          1       1.79       50000.0           5  279.329609   \n",
              "\n",
              "              date  month  quarter  day  \n",
              "0       2018-05-05      5        2    5  \n",
              "1       2018-05-05      5        2    5  \n",
              "2       2018-05-05      5        2    5  \n",
              "3       2018-05-05      5        2    5  \n",
              "4       2018-05-05      5        2    5  \n",
              "...            ...    ...      ...  ...  \n",
              "142519  2018-11-04     11        4    4  \n",
              "142520  2018-11-04     11        4    4  \n",
              "142521  2018-11-04     11        4    4  \n",
              "142522  2018-11-04     11        4    4  \n",
              "142523  2018-11-04     11        4    4  \n",
              "\n",
              "[142524 rows x 14 columns]"
            ],
            "text/html": [
              "\n",
              "  <div id=\"df-a8d2bf8b-5afc-4b30-9219-fbcc215b03ae\" class=\"colab-df-container\">\n",
              "    <div>\n",
              "<style scoped>\n",
              "    .dataframe tbody tr th:only-of-type {\n",
              "        vertical-align: middle;\n",
              "    }\n",
              "\n",
              "    .dataframe tbody tr th {\n",
              "        vertical-align: top;\n",
              "    }\n",
              "\n",
              "    .dataframe thead th {\n",
              "        text-align: right;\n",
              "    }\n",
              "</style>\n",
              "<table border=\"1\" class=\"dataframe\">\n",
              "  <thead>\n",
              "    <tr style=\"text-align: right;\">\n",
              "      <th></th>\n",
              "      <th>film_code</th>\n",
              "      <th>cinema_code</th>\n",
              "      <th>total_sales</th>\n",
              "      <th>tickets_sold</th>\n",
              "      <th>tickets_out</th>\n",
              "      <th>show_time</th>\n",
              "      <th>occu_perc</th>\n",
              "      <th>ticket_price</th>\n",
              "      <th>ticket_use</th>\n",
              "      <th>capacity</th>\n",
              "      <th>date</th>\n",
              "      <th>month</th>\n",
              "      <th>quarter</th>\n",
              "      <th>day</th>\n",
              "    </tr>\n",
              "  </thead>\n",
              "  <tbody>\n",
              "    <tr>\n",
              "      <th>0</th>\n",
              "      <td>1492</td>\n",
              "      <td>304</td>\n",
              "      <td>3900000</td>\n",
              "      <td>26</td>\n",
              "      <td>0</td>\n",
              "      <td>4</td>\n",
              "      <td>4.26</td>\n",
              "      <td>150000.0</td>\n",
              "      <td>26</td>\n",
              "      <td>610.328638</td>\n",
              "      <td>2018-05-05</td>\n",
              "      <td>5</td>\n",
              "      <td>2</td>\n",
              "      <td>5</td>\n",
              "    </tr>\n",
              "    <tr>\n",
              "      <th>1</th>\n",
              "      <td>1492</td>\n",
              "      <td>352</td>\n",
              "      <td>3360000</td>\n",
              "      <td>42</td>\n",
              "      <td>0</td>\n",
              "      <td>5</td>\n",
              "      <td>8.08</td>\n",
              "      <td>80000.0</td>\n",
              "      <td>42</td>\n",
              "      <td>519.801980</td>\n",
              "      <td>2018-05-05</td>\n",
              "      <td>5</td>\n",
              "      <td>2</td>\n",
              "      <td>5</td>\n",
              "    </tr>\n",
              "    <tr>\n",
              "      <th>2</th>\n",
              "      <td>1492</td>\n",
              "      <td>489</td>\n",
              "      <td>2560000</td>\n",
              "      <td>32</td>\n",
              "      <td>0</td>\n",
              "      <td>4</td>\n",
              "      <td>20.00</td>\n",
              "      <td>80000.0</td>\n",
              "      <td>32</td>\n",
              "      <td>160.000000</td>\n",
              "      <td>2018-05-05</td>\n",
              "      <td>5</td>\n",
              "      <td>2</td>\n",
              "      <td>5</td>\n",
              "    </tr>\n",
              "    <tr>\n",
              "      <th>3</th>\n",
              "      <td>1492</td>\n",
              "      <td>429</td>\n",
              "      <td>1200000</td>\n",
              "      <td>12</td>\n",
              "      <td>0</td>\n",
              "      <td>1</td>\n",
              "      <td>11.01</td>\n",
              "      <td>100000.0</td>\n",
              "      <td>12</td>\n",
              "      <td>108.991826</td>\n",
              "      <td>2018-05-05</td>\n",
              "      <td>5</td>\n",
              "      <td>2</td>\n",
              "      <td>5</td>\n",
              "    </tr>\n",
              "    <tr>\n",
              "      <th>4</th>\n",
              "      <td>1492</td>\n",
              "      <td>524</td>\n",
              "      <td>1200000</td>\n",
              "      <td>15</td>\n",
              "      <td>0</td>\n",
              "      <td>3</td>\n",
              "      <td>16.67</td>\n",
              "      <td>80000.0</td>\n",
              "      <td>15</td>\n",
              "      <td>89.982004</td>\n",
              "      <td>2018-05-05</td>\n",
              "      <td>5</td>\n",
              "      <td>2</td>\n",
              "      <td>5</td>\n",
              "    </tr>\n",
              "    <tr>\n",
              "      <th>...</th>\n",
              "      <td>...</td>\n",
              "      <td>...</td>\n",
              "      <td>...</td>\n",
              "      <td>...</td>\n",
              "      <td>...</td>\n",
              "      <td>...</td>\n",
              "      <td>...</td>\n",
              "      <td>...</td>\n",
              "      <td>...</td>\n",
              "      <td>...</td>\n",
              "      <td>...</td>\n",
              "      <td>...</td>\n",
              "      <td>...</td>\n",
              "      <td>...</td>\n",
              "    </tr>\n",
              "    <tr>\n",
              "      <th>142519</th>\n",
              "      <td>1569</td>\n",
              "      <td>495</td>\n",
              "      <td>1320000</td>\n",
              "      <td>22</td>\n",
              "      <td>0</td>\n",
              "      <td>2</td>\n",
              "      <td>3.86</td>\n",
              "      <td>60000.0</td>\n",
              "      <td>22</td>\n",
              "      <td>569.948187</td>\n",
              "      <td>2018-11-04</td>\n",
              "      <td>11</td>\n",
              "      <td>4</td>\n",
              "      <td>4</td>\n",
              "    </tr>\n",
              "    <tr>\n",
              "      <th>142520</th>\n",
              "      <td>1569</td>\n",
              "      <td>474</td>\n",
              "      <td>1200000</td>\n",
              "      <td>15</td>\n",
              "      <td>0</td>\n",
              "      <td>1</td>\n",
              "      <td>65.22</td>\n",
              "      <td>80000.0</td>\n",
              "      <td>15</td>\n",
              "      <td>22.999080</td>\n",
              "      <td>2018-11-04</td>\n",
              "      <td>11</td>\n",
              "      <td>4</td>\n",
              "      <td>4</td>\n",
              "    </tr>\n",
              "    <tr>\n",
              "      <th>142521</th>\n",
              "      <td>1569</td>\n",
              "      <td>524</td>\n",
              "      <td>1060000</td>\n",
              "      <td>8</td>\n",
              "      <td>0</td>\n",
              "      <td>3</td>\n",
              "      <td>9.20</td>\n",
              "      <td>132500.0</td>\n",
              "      <td>8</td>\n",
              "      <td>86.956522</td>\n",
              "      <td>2018-11-04</td>\n",
              "      <td>11</td>\n",
              "      <td>4</td>\n",
              "      <td>4</td>\n",
              "    </tr>\n",
              "    <tr>\n",
              "      <th>142522</th>\n",
              "      <td>1569</td>\n",
              "      <td>529</td>\n",
              "      <td>600000</td>\n",
              "      <td>5</td>\n",
              "      <td>0</td>\n",
              "      <td>2</td>\n",
              "      <td>5.00</td>\n",
              "      <td>120000.0</td>\n",
              "      <td>5</td>\n",
              "      <td>100.000000</td>\n",
              "      <td>2018-11-04</td>\n",
              "      <td>11</td>\n",
              "      <td>4</td>\n",
              "      <td>4</td>\n",
              "    </tr>\n",
              "    <tr>\n",
              "      <th>142523</th>\n",
              "      <td>1569</td>\n",
              "      <td>486</td>\n",
              "      <td>250000</td>\n",
              "      <td>5</td>\n",
              "      <td>0</td>\n",
              "      <td>1</td>\n",
              "      <td>1.79</td>\n",
              "      <td>50000.0</td>\n",
              "      <td>5</td>\n",
              "      <td>279.329609</td>\n",
              "      <td>2018-11-04</td>\n",
              "      <td>11</td>\n",
              "      <td>4</td>\n",
              "      <td>4</td>\n",
              "    </tr>\n",
              "  </tbody>\n",
              "</table>\n",
              "<p>142524 rows × 14 columns</p>\n",
              "</div>\n",
              "    <div class=\"colab-df-buttons\">\n",
              "\n",
              "  <div class=\"colab-df-container\">\n",
              "    <button class=\"colab-df-convert\" onclick=\"convertToInteractive('df-a8d2bf8b-5afc-4b30-9219-fbcc215b03ae')\"\n",
              "            title=\"Convert this dataframe to an interactive table.\"\n",
              "            style=\"display:none;\">\n",
              "\n",
              "  <svg xmlns=\"http://www.w3.org/2000/svg\" height=\"24px\" viewBox=\"0 -960 960 960\">\n",
              "    <path d=\"M120-120v-720h720v720H120Zm60-500h600v-160H180v160Zm220 220h160v-160H400v160Zm0 220h160v-160H400v160ZM180-400h160v-160H180v160Zm440 0h160v-160H620v160ZM180-180h160v-160H180v160Zm440 0h160v-160H620v160Z\"/>\n",
              "  </svg>\n",
              "    </button>\n",
              "\n",
              "  <style>\n",
              "    .colab-df-container {\n",
              "      display:flex;\n",
              "      gap: 12px;\n",
              "    }\n",
              "\n",
              "    .colab-df-convert {\n",
              "      background-color: #E8F0FE;\n",
              "      border: none;\n",
              "      border-radius: 50%;\n",
              "      cursor: pointer;\n",
              "      display: none;\n",
              "      fill: #1967D2;\n",
              "      height: 32px;\n",
              "      padding: 0 0 0 0;\n",
              "      width: 32px;\n",
              "    }\n",
              "\n",
              "    .colab-df-convert:hover {\n",
              "      background-color: #E2EBFA;\n",
              "      box-shadow: 0px 1px 2px rgba(60, 64, 67, 0.3), 0px 1px 3px 1px rgba(60, 64, 67, 0.15);\n",
              "      fill: #174EA6;\n",
              "    }\n",
              "\n",
              "    .colab-df-buttons div {\n",
              "      margin-bottom: 4px;\n",
              "    }\n",
              "\n",
              "    [theme=dark] .colab-df-convert {\n",
              "      background-color: #3B4455;\n",
              "      fill: #D2E3FC;\n",
              "    }\n",
              "\n",
              "    [theme=dark] .colab-df-convert:hover {\n",
              "      background-color: #434B5C;\n",
              "      box-shadow: 0px 1px 3px 1px rgba(0, 0, 0, 0.15);\n",
              "      filter: drop-shadow(0px 1px 2px rgba(0, 0, 0, 0.3));\n",
              "      fill: #FFFFFF;\n",
              "    }\n",
              "  </style>\n",
              "\n",
              "    <script>\n",
              "      const buttonEl =\n",
              "        document.querySelector('#df-a8d2bf8b-5afc-4b30-9219-fbcc215b03ae button.colab-df-convert');\n",
              "      buttonEl.style.display =\n",
              "        google.colab.kernel.accessAllowed ? 'block' : 'none';\n",
              "\n",
              "      async function convertToInteractive(key) {\n",
              "        const element = document.querySelector('#df-a8d2bf8b-5afc-4b30-9219-fbcc215b03ae');\n",
              "        const dataTable =\n",
              "          await google.colab.kernel.invokeFunction('convertToInteractive',\n",
              "                                                    [key], {});\n",
              "        if (!dataTable) return;\n",
              "\n",
              "        const docLinkHtml = 'Like what you see? Visit the ' +\n",
              "          '<a target=\"_blank\" href=https://colab.research.google.com/notebooks/data_table.ipynb>data table notebook</a>'\n",
              "          + ' to learn more about interactive tables.';\n",
              "        element.innerHTML = '';\n",
              "        dataTable['output_type'] = 'display_data';\n",
              "        await google.colab.output.renderOutput(dataTable, element);\n",
              "        const docLink = document.createElement('div');\n",
              "        docLink.innerHTML = docLinkHtml;\n",
              "        element.appendChild(docLink);\n",
              "      }\n",
              "    </script>\n",
              "  </div>\n",
              "\n",
              "\n",
              "    <div id=\"df-a595e6e7-cfd3-4ad3-af65-624557c3b01a\">\n",
              "      <button class=\"colab-df-quickchart\" onclick=\"quickchart('df-a595e6e7-cfd3-4ad3-af65-624557c3b01a')\"\n",
              "                title=\"Suggest charts\"\n",
              "                style=\"display:none;\">\n",
              "\n",
              "<svg xmlns=\"http://www.w3.org/2000/svg\" height=\"24px\"viewBox=\"0 0 24 24\"\n",
              "     width=\"24px\">\n",
              "    <g>\n",
              "        <path d=\"M19 3H5c-1.1 0-2 .9-2 2v14c0 1.1.9 2 2 2h14c1.1 0 2-.9 2-2V5c0-1.1-.9-2-2-2zM9 17H7v-7h2v7zm4 0h-2V7h2v10zm4 0h-2v-4h2v4z\"/>\n",
              "    </g>\n",
              "</svg>\n",
              "      </button>\n",
              "\n",
              "<style>\n",
              "  .colab-df-quickchart {\n",
              "      --bg-color: #E8F0FE;\n",
              "      --fill-color: #1967D2;\n",
              "      --hover-bg-color: #E2EBFA;\n",
              "      --hover-fill-color: #174EA6;\n",
              "      --disabled-fill-color: #AAA;\n",
              "      --disabled-bg-color: #DDD;\n",
              "  }\n",
              "\n",
              "  [theme=dark] .colab-df-quickchart {\n",
              "      --bg-color: #3B4455;\n",
              "      --fill-color: #D2E3FC;\n",
              "      --hover-bg-color: #434B5C;\n",
              "      --hover-fill-color: #FFFFFF;\n",
              "      --disabled-bg-color: #3B4455;\n",
              "      --disabled-fill-color: #666;\n",
              "  }\n",
              "\n",
              "  .colab-df-quickchart {\n",
              "    background-color: var(--bg-color);\n",
              "    border: none;\n",
              "    border-radius: 50%;\n",
              "    cursor: pointer;\n",
              "    display: none;\n",
              "    fill: var(--fill-color);\n",
              "    height: 32px;\n",
              "    padding: 0;\n",
              "    width: 32px;\n",
              "  }\n",
              "\n",
              "  .colab-df-quickchart:hover {\n",
              "    background-color: var(--hover-bg-color);\n",
              "    box-shadow: 0 1px 2px rgba(60, 64, 67, 0.3), 0 1px 3px 1px rgba(60, 64, 67, 0.15);\n",
              "    fill: var(--button-hover-fill-color);\n",
              "  }\n",
              "\n",
              "  .colab-df-quickchart-complete:disabled,\n",
              "  .colab-df-quickchart-complete:disabled:hover {\n",
              "    background-color: var(--disabled-bg-color);\n",
              "    fill: var(--disabled-fill-color);\n",
              "    box-shadow: none;\n",
              "  }\n",
              "\n",
              "  .colab-df-spinner {\n",
              "    border: 2px solid var(--fill-color);\n",
              "    border-color: transparent;\n",
              "    border-bottom-color: var(--fill-color);\n",
              "    animation:\n",
              "      spin 1s steps(1) infinite;\n",
              "  }\n",
              "\n",
              "  @keyframes spin {\n",
              "    0% {\n",
              "      border-color: transparent;\n",
              "      border-bottom-color: var(--fill-color);\n",
              "      border-left-color: var(--fill-color);\n",
              "    }\n",
              "    20% {\n",
              "      border-color: transparent;\n",
              "      border-left-color: var(--fill-color);\n",
              "      border-top-color: var(--fill-color);\n",
              "    }\n",
              "    30% {\n",
              "      border-color: transparent;\n",
              "      border-left-color: var(--fill-color);\n",
              "      border-top-color: var(--fill-color);\n",
              "      border-right-color: var(--fill-color);\n",
              "    }\n",
              "    40% {\n",
              "      border-color: transparent;\n",
              "      border-right-color: var(--fill-color);\n",
              "      border-top-color: var(--fill-color);\n",
              "    }\n",
              "    60% {\n",
              "      border-color: transparent;\n",
              "      border-right-color: var(--fill-color);\n",
              "    }\n",
              "    80% {\n",
              "      border-color: transparent;\n",
              "      border-right-color: var(--fill-color);\n",
              "      border-bottom-color: var(--fill-color);\n",
              "    }\n",
              "    90% {\n",
              "      border-color: transparent;\n",
              "      border-bottom-color: var(--fill-color);\n",
              "    }\n",
              "  }\n",
              "</style>\n",
              "\n",
              "      <script>\n",
              "        async function quickchart(key) {\n",
              "          const quickchartButtonEl =\n",
              "            document.querySelector('#' + key + ' button');\n",
              "          quickchartButtonEl.disabled = true;  // To prevent multiple clicks.\n",
              "          quickchartButtonEl.classList.add('colab-df-spinner');\n",
              "          try {\n",
              "            const charts = await google.colab.kernel.invokeFunction(\n",
              "                'suggestCharts', [key], {});\n",
              "          } catch (error) {\n",
              "            console.error('Error during call to suggestCharts:', error);\n",
              "          }\n",
              "          quickchartButtonEl.classList.remove('colab-df-spinner');\n",
              "          quickchartButtonEl.classList.add('colab-df-quickchart-complete');\n",
              "        }\n",
              "        (() => {\n",
              "          let quickchartButtonEl =\n",
              "            document.querySelector('#df-a595e6e7-cfd3-4ad3-af65-624557c3b01a button');\n",
              "          quickchartButtonEl.style.display =\n",
              "            google.colab.kernel.accessAllowed ? 'block' : 'none';\n",
              "        })();\n",
              "      </script>\n",
              "    </div>\n",
              "\n",
              "  <div id=\"id_a9ffa49a-f6af-4c60-981b-8d3654a67763\">\n",
              "    <style>\n",
              "      .colab-df-generate {\n",
              "        background-color: #E8F0FE;\n",
              "        border: none;\n",
              "        border-radius: 50%;\n",
              "        cursor: pointer;\n",
              "        display: none;\n",
              "        fill: #1967D2;\n",
              "        height: 32px;\n",
              "        padding: 0 0 0 0;\n",
              "        width: 32px;\n",
              "      }\n",
              "\n",
              "      .colab-df-generate:hover {\n",
              "        background-color: #E2EBFA;\n",
              "        box-shadow: 0px 1px 2px rgba(60, 64, 67, 0.3), 0px 1px 3px 1px rgba(60, 64, 67, 0.15);\n",
              "        fill: #174EA6;\n",
              "      }\n",
              "\n",
              "      [theme=dark] .colab-df-generate {\n",
              "        background-color: #3B4455;\n",
              "        fill: #D2E3FC;\n",
              "      }\n",
              "\n",
              "      [theme=dark] .colab-df-generate:hover {\n",
              "        background-color: #434B5C;\n",
              "        box-shadow: 0px 1px 3px 1px rgba(0, 0, 0, 0.15);\n",
              "        filter: drop-shadow(0px 1px 2px rgba(0, 0, 0, 0.3));\n",
              "        fill: #FFFFFF;\n",
              "      }\n",
              "    </style>\n",
              "    <button class=\"colab-df-generate\" onclick=\"generateWithVariable('df')\"\n",
              "            title=\"Generate code using this dataframe.\"\n",
              "            style=\"display:none;\">\n",
              "\n",
              "  <svg xmlns=\"http://www.w3.org/2000/svg\" height=\"24px\"viewBox=\"0 0 24 24\"\n",
              "       width=\"24px\">\n",
              "    <path d=\"M7,19H8.4L18.45,9,17,7.55,7,17.6ZM5,21V16.75L18.45,3.32a2,2,0,0,1,2.83,0l1.4,1.43a1.91,1.91,0,0,1,.58,1.4,1.91,1.91,0,0,1-.58,1.4L9.25,21ZM18.45,9,17,7.55Zm-12,3A5.31,5.31,0,0,0,4.9,8.1,5.31,5.31,0,0,0,1,6.5,5.31,5.31,0,0,0,4.9,4.9,5.31,5.31,0,0,0,6.5,1,5.31,5.31,0,0,0,8.1,4.9,5.31,5.31,0,0,0,12,6.5,5.46,5.46,0,0,0,6.5,12Z\"/>\n",
              "  </svg>\n",
              "    </button>\n",
              "    <script>\n",
              "      (() => {\n",
              "      const buttonEl =\n",
              "        document.querySelector('#id_a9ffa49a-f6af-4c60-981b-8d3654a67763 button.colab-df-generate');\n",
              "      buttonEl.style.display =\n",
              "        google.colab.kernel.accessAllowed ? 'block' : 'none';\n",
              "\n",
              "      buttonEl.onclick = () => {\n",
              "        google.colab.notebook.generateWithVariable('df');\n",
              "      }\n",
              "      })();\n",
              "    </script>\n",
              "  </div>\n",
              "\n",
              "    </div>\n",
              "  </div>\n"
            ],
            "application/vnd.google.colaboratory.intrinsic+json": {
              "type": "dataframe",
              "variable_name": "df"
            }
          },
          "metadata": {},
          "execution_count": 5
        }
      ]
    },
    {
      "cell_type": "code",
      "source": [
        "#6.\tCreate a script to develop a Python function for descriptive statistics. The input for the function should be the sample and the field to perform the descriptive statistics."
      ],
      "metadata": {
        "id": "_1Npyt62ejUe"
      },
      "execution_count": 6,
      "outputs": []
    },
    {
      "cell_type": "code",
      "source": [
        "import pandas as pd\n",
        "\n",
        "def descriptive_statistics(df, field):\n",
        "    desc_stats = df[field].describe()\n",
        "    return desc_stats\n"
      ],
      "metadata": {
        "id": "CJ6rMYPCejXn"
      },
      "execution_count": 7,
      "outputs": []
    },
    {
      "cell_type": "code",
      "source": [
        "#7.\tCreate a program to random sampling of size 150 and find the descriptive statistics for the dependent variable from the sample [Apply the descriptive function which you created]."
      ],
      "metadata": {
        "id": "ss_0G-Ljejad"
      },
      "execution_count": 8,
      "outputs": []
    },
    {
      "cell_type": "code",
      "source": [
        "# Random sampling\n",
        "sample_random = df.sample(n=150, random_state=42)\n",
        "# Apply descriptive function\n",
        "random_stats = descriptive_statistics(sample_random, 'total_sales')\n",
        "print(\"Descriptive Stats for Random Sample:\\n\", random_stats)\n"
      ],
      "metadata": {
        "colab": {
          "base_uri": "https://localhost:8080/"
        },
        "id": "VYjVCj7Iejdn",
        "outputId": "97f8c33e-2ef1-4166-860f-2fc42b074cd4"
      },
      "execution_count": 9,
      "outputs": [
        {
          "output_type": "stream",
          "name": "stdout",
          "text": [
            "Descriptive Stats for Random Sample:\n",
            " count    1.500000e+02\n",
            "mean     1.648742e+07\n",
            "std      5.284608e+07\n",
            "min      1.000000e+05\n",
            "25%      1.150000e+06\n",
            "50%      3.270000e+06\n",
            "75%      8.890000e+06\n",
            "max      5.259275e+08\n",
            "Name: total_sales, dtype: float64\n"
          ]
        }
      ]
    },
    {
      "cell_type": "code",
      "source": [
        "#8.\tCreate a script for systematic sampling by giving certain conditions and finding the desc stat for the dependent variable from the sample [Apply the descriptive function which you created]."
      ],
      "metadata": {
        "id": "wVRYrQ8Aejgu"
      },
      "execution_count": 10,
      "outputs": []
    },
    {
      "cell_type": "code",
      "source": [
        "def systematic_sample(df, step):\n",
        "    return df.iloc[::step, :]\n",
        "\n",
        "# Taking every 10th row as an example\n",
        "sample_systematic = systematic_sample(df, step=10)\n",
        "systematic_stats = descriptive_statistics(sample_systematic, 'total_sales')\n",
        "print(\"Descriptive Stats for Systematic Sample:\\n\", systematic_stats)\n"
      ],
      "metadata": {
        "colab": {
          "base_uri": "https://localhost:8080/"
        },
        "id": "re7U0uN9ejjd",
        "outputId": "7967d3ea-c9e6-4870-a9d8-88d2a75e922e"
      },
      "execution_count": 11,
      "outputs": [
        {
          "output_type": "stream",
          "name": "stdout",
          "text": [
            "Descriptive Stats for Systematic Sample:\n",
            " count    1.425300e+04\n",
            "mean     1.232965e+07\n",
            "std      2.989197e+07\n",
            "min      2.000000e+04\n",
            "25%      1.280000e+06\n",
            "50%      3.720000e+06\n",
            "75%      1.110000e+07\n",
            "max      6.538450e+08\n",
            "Name: total_sales, dtype: float64\n"
          ]
        }
      ]
    },
    {
      "cell_type": "code",
      "source": [
        "#9.\tCreate a detailed descriptive statistics report about the dependent variable of the chosen dataset."
      ],
      "metadata": {
        "id": "CI2Yy24wejl9"
      },
      "execution_count": 12,
      "outputs": []
    },
    {
      "cell_type": "code",
      "source": [
        "full_stats = descriptive_statistics(df, 'total_sales')\n",
        "print(\"Full Dataset Descriptive Stats for 'total_sales':\\n\", full_stats)\n"
      ],
      "metadata": {
        "colab": {
          "base_uri": "https://localhost:8080/"
        },
        "id": "iWEn7U29fCZ1",
        "outputId": "e55341ec-ab27-4cfa-931a-cafe96716e50"
      },
      "execution_count": 13,
      "outputs": [
        {
          "output_type": "stream",
          "name": "stdout",
          "text": [
            "Full Dataset Descriptive Stats for 'total_sales':\n",
            " count    1.425240e+05\n",
            "mean     1.234728e+07\n",
            "std      3.065486e+07\n",
            "min      2.000000e+04\n",
            "25%      1.260000e+06\n",
            "50%      3.720000e+06\n",
            "75%      1.110000e+07\n",
            "max      1.262820e+09\n",
            "Name: total_sales, dtype: float64\n"
          ]
        }
      ]
    },
    {
      "cell_type": "code",
      "source": [
        "#10.\tVisualize the dependent variable by the Graph/Chart of the following using Python Program:\n",
        "        #a.\tScatter plot\n",
        "        #b.\tBox Plot\n",
        "        #c.\tHistogram\n",
        "        #d.\tHeat Map\n",
        "#Hint: Use Matplot or Ski-learn library\n"
      ],
      "metadata": {
        "id": "u-TY6XKwfCcm"
      },
      "execution_count": 14,
      "outputs": []
    },
    {
      "cell_type": "code",
      "source": [
        "import pandas as pd\n",
        "import matplotlib.pyplot as plt\n",
        "import seaborn as sns\n",
        "\n",
        "# Optional: parse date if not already\n",
        "df['date'] = pd.to_datetime(df['date'], errors='coerce')  # to fix date column\n"
      ],
      "metadata": {
        "id": "CRD2ovkKfCfm"
      },
      "execution_count": 15,
      "outputs": []
    },
    {
      "cell_type": "code",
      "source": [
        "plt.figure(figsize=(8, 5))\n",
        "plt.scatter(df['tickets_sold'], df['total_sales'], alpha=0.7, color='teal')\n",
        "plt.title('Scatter Plot: Tickets Sold vs Total Sales')\n",
        "plt.xlabel('Tickets Sold')\n",
        "plt.ylabel('Total Sales')\n",
        "plt.grid(True)\n",
        "plt.show()\n"
      ],
      "metadata": {
        "colab": {
          "base_uri": "https://localhost:8080/",
          "height": 487
        },
        "id": "Ie645MfdfCip",
        "outputId": "b70daebd-e05a-48ea-f588-7fc7f3fcfd9c"
      },
      "execution_count": 16,
      "outputs": [
        {
          "output_type": "display_data",
          "data": {
            "text/plain": [
              "<Figure size 800x500 with 1 Axes>"
            ],
            "image/png": "[encoded data removed]"
          },
          "metadata": {}
        }
      ]
    },
    {
      "cell_type": "code",
      "source": [
        "plt.figure(figsize=(8, 5))\n",
        "sns.boxplot(y=df['total_sales'], color='orange')\n",
        "plt.title('Box Plot of Total Sales')\n",
        "plt.ylabel('Total Sales')\n",
        "plt.grid(True)\n",
        "plt.show()\n"
      ],
      "metadata": {
        "colab": {
          "base_uri": "https://localhost:8080/",
          "height": 449
        },
        "id": "wr6Vz1n1fClR",
        "outputId": "2f0e347b-9105-4247-a5fd-205b7560a3e8"
      },
      "execution_count": 17,
      "outputs": [
        {
          "output_type": "display_data",
          "data": {
            "text/plain": [
              "<Figure size 800x500 with 1 Axes>"
            ],
            "image/png": "[encoded data removed]"
          },
          "metadata": {}
        }
      ]
    },
    {
      "cell_type": "code",
      "source": [
        "plt.figure(figsize=(8, 5))\n",
        "plt.hist(df['total_sales'], bins=20, color='skyblue', edgecolor='black')\n",
        "plt.title('Histogram of Total Sales')\n",
        "plt.xlabel('Total Sales')\n",
        "plt.ylabel('Frequency')\n",
        "plt.grid(True)\n",
        "plt.show()\n"
      ],
      "metadata": {
        "colab": {
          "base_uri": "https://localhost:8080/",
          "height": 487
        },
        "id": "cZnguphAfCoJ",
        "outputId": "5372216c-60bb-42bf-ef4b-9cb25fea0789"
      },
      "execution_count": 18,
      "outputs": [
        {
          "output_type": "display_data",
          "data": {
            "text/plain": [
              "<Figure size 800x500 with 1 Axes>"
            ],
            "image/png": "[encoded data removed]"
          },
          "metadata": {}
        }
      ]
    },
    {
      "cell_type": "code",
      "source": [
        "plt.figure(figsize=(10, 6))\n",
        "numeric_df = df.select_dtypes(include=['int64', 'float64'])\n",
        "correlation_matrix = numeric_df.corr()\n",
        "sns.heatmap(correlation_matrix, annot=True, cmap='coolwarm', fmt=\".2f\")\n",
        "plt.title('Heatmap of Feature Correlations')\n",
        "plt.show()\n"
      ],
      "metadata": {
        "colab": {
          "base_uri": "https://localhost:8080/",
          "height": 622
        },
        "id": "IugFxabxfCq3",
        "outputId": "e6db2931-783d-4935-e206-c9951fd288ad"
      },
      "execution_count": 19,
      "outputs": [
        {
          "output_type": "display_data",
          "data": {
            "text/plain": [
              "<Figure size 1000x600 with 2 Axes>"
            ],
            "image/png": "[encoded data removed]"
          },
          "metadata": {}
        }
      ]
    },
    {
      "cell_type": "code",
      "source": [
        "#11.\tPerform the hypothesis test to find the correlation (Pearson and Spearman for numerical variable and chi-square test for categorical variable) between the independent variable and the dependent variable.\n",
        "#Note: If you have more than one independent variable, then chose any one of the independent variables.\n"
      ],
      "metadata": {
        "id": "GMIzc9FNfCtw"
      },
      "execution_count": 20,
      "outputs": []
    },
    {
      "cell_type": "code",
      "source": [
        "from scipy.stats import pearsonr, spearmanr\n",
        "\n",
        "# Drop missing values\n",
        "df_corr = df[['total_sales', 'tickets_sold']].dropna()\n",
        "\n",
        "# Pearson Correlation\n",
        "pearson_corr, pearson_p = pearsonr(df_corr['total_sales'], df_corr['tickets_sold'])\n",
        "print(f\"Pearson Correlation: {pearson_corr:.4f}, P-value: {pearson_p:.4e}\")\n",
        "\n",
        "# Spearman Correlation\n",
        "spearman_corr, spearman_p = spearmanr(df_corr['total_sales'], df_corr['tickets_sold'])\n",
        "print(f\"Spearman Correlation: {spearman_corr:.4f}, P-value: {spearman_p:.4e}\")\n"
      ],
      "metadata": {
        "colab": {
          "base_uri": "https://localhost:8080/"
        },
        "id": "cHD6UXiifCxJ",
        "outputId": "ffd4effa-fc0e-444c-ef9e-75b9ae3dfd9f"
      },
      "execution_count": 21,
      "outputs": [
        {
          "output_type": "stream",
          "name": "stdout",
          "text": [
            "Pearson Correlation: 0.9152, P-value: 0.0000e+00\n",
            "Spearman Correlation: 0.9596, P-value: 0.0000e+00\n"
          ]
        }
      ]
    },
    {
      "cell_type": "code",
      "source": [
        "from scipy.stats import chi2_contingency\n",
        "\n",
        "# Convert total_sales to categorical\n",
        "median_sales = df['total_sales'].median()\n",
        "df['sales_cat'] = df['total_sales'].apply(lambda x: 'High' if x >= median_sales else 'Low')\n",
        "\n",
        "# Create contingency table\n",
        "contingency_table = pd.crosstab(df['month'], df['sales_cat'])\n",
        "\n",
        "# Chi-Square Test\n",
        "chi2, p_val, dof, expected = chi2_contingency(contingency_table)\n",
        "print(f\"Chi-square: {chi2:.2f}, P-value: {p_val:.4f}\")\n"
      ],
      "metadata": {
        "colab": {
          "base_uri": "https://localhost:8080/"
        },
        "id": "b3aqo8x1fCz8",
        "outputId": "c59609d5-66cf-4b9c-9a39-89bdab1c875e"
      },
      "execution_count": 22,
      "outputs": [
        {
          "output_type": "stream",
          "name": "stdout",
          "text": [
            "Chi-square: 8130.23, P-value: 0.0000\n"
          ]
        }
      ]
    },
    {
      "cell_type": "code",
      "source": [
        "#12: Assess the performance of the dependent variable to know whether the sample is representative of the normal population by a one-sample t-test."
      ],
      "metadata": {
        "id": "Nd4waYF4fC27"
      },
      "execution_count": 23,
      "outputs": []
    },
    {
      "cell_type": "code",
      "source": [
        "from scipy.stats import ttest_1samp\n",
        "\n",
        "# One-sample t-test for total_sales\n",
        "sample_data = df['total_sales'].dropna()\n",
        "pop_mean = 3000000  # Assumed population mean\n",
        "\n",
        "t_stat, p_value = ttest_1samp(sample_data, pop_mean)\n",
        "print(f\"T-Statistic: {t_stat:.4f}, P-value: {p_value:.4f}\")\n"
      ],
      "metadata": {
        "colab": {
          "base_uri": "https://localhost:8080/"
        },
        "id": "7jUruySafC5i",
        "outputId": "5761ff1f-df37-4238-c529-cb9e69bdc4e7"
      },
      "execution_count": 24,
      "outputs": [
        {
          "output_type": "stream",
          "name": "stdout",
          "text": [
            "T-Statistic: 115.1144, P-value: 0.0000\n"
          ]
        }
      ]
    },
    {
      "cell_type": "code",
      "source": [
        "#13: Build, Train, Develop and Evaluate using Simple Regression for chosen dataset."
      ],
      "metadata": {
        "id": "swbc-7T8fC9F"
      },
      "execution_count": 25,
      "outputs": []
    },
    {
      "cell_type": "code",
      "source": [
        "from sklearn.linear_model import LinearRegression\n",
        "from sklearn.model_selection import train_test_split\n",
        "from sklearn.metrics import mean_squared_error, r2_score\n",
        "\n",
        "# Simple Linear Regression\n",
        "X = df[['ticket_price']]\n",
        "y = df['tickets_sold']\n",
        "\n",
        "X_train, X_test, y_train, y_test = train_test_split(X, y, test_size=0.2, random_state=42)\n",
        "\n",
        "lr = LinearRegression()\n",
        "lr.fit(X_train, y_train)\n",
        "\n",
        "y_pred = lr.predict(X_test)\n",
        "\n",
        "print(\"MSE:\", mean_squared_error(y_test, y_pred))\n",
        "print(\"R² Score:\", r2_score(y_test, y_pred))\n"
      ],
      "metadata": {
        "colab": {
          "base_uri": "https://localhost:8080/"
        },
        "id": "cttuxIZafcX7",
        "outputId": "e5f5d0a0-75f9-41d1-b0b9-7fe734cc69ce"
      },
      "execution_count": 26,
      "outputs": [
        {
          "output_type": "stream",
          "name": "stdout",
          "text": [
            "MSE: 80711.54602195615\n",
            "R² Score: 0.011157103600625384\n"
          ]
        }
      ]
    },
    {
      "cell_type": "code",
      "source": [
        "#14: Develop a script to forecast the value of the dependent variable from all the relevant independent variables using Multiple Linear Regression."
      ],
      "metadata": {
        "id": "BMJttMrYfcbG"
      },
      "execution_count": 27,
      "outputs": []
    },
    {
      "cell_type": "code",
      "source": [
        "import pandas as pd\n",
        "from sklearn.model_selection import train_test_split\n",
        "from sklearn.linear_model import LinearRegression\n",
        "from sklearn.impute import SimpleImputer\n",
        "from sklearn.metrics import mean_squared_error\n",
        "\n",
        "# Select features and target\n",
        "features = ['ticket_price', 'capacity', 'show_time']\n",
        "target = 'tickets_sold'\n",
        "\n",
        "# Impute missing values in the features\n",
        "imputer = SimpleImputer(strategy='mean')\n",
        "X = imputer.fit_transform(df[features])\n",
        "y = df[target]\n",
        "\n",
        "# Train-test split\n",
        "X_train, X_test, y_train, y_test = train_test_split(X, y, test_size=0.2, random_state=42)\n",
        "\n",
        "# Multiple Linear Regression\n",
        "mlr = LinearRegression()\n",
        "mlr.fit(X_train, y_train)\n",
        "\n",
        "# Predictions\n",
        "y_pred = mlr.predict(X_test)\n",
        "\n",
        "# Evaluation\n",
        "mse = mean_squared_error(y_test, y_pred)\n",
        "print(\"MSE (Multiple Linear Regression):\", mse)\n"
      ],
      "metadata": {
        "colab": {
          "base_uri": "https://localhost:8080/"
        },
        "id": "ucB_Prd0fceX",
        "outputId": "dda9b7dd-d9fa-4bf2-cd79-67d2013b0cd0"
      },
      "execution_count": 28,
      "outputs": [
        {
          "output_type": "stream",
          "name": "stdout",
          "text": [
            "MSE (Multiple Linear Regression): 58030.856094327646\n"
          ]
        }
      ]
    },
    {
      "cell_type": "code",
      "source": [
        "#Question 15: Predict the value of the dependent variable from the different classifier such as Logistic Regression, KNN, Naïve-Bayes and Decision Tree."
      ],
      "metadata": {
        "id": "A-t3_MqsfchO"
      },
      "execution_count": 29,
      "outputs": []
    },
    {
      "cell_type": "code",
      "source": [
        "print(type(X))\n",
        "print(X.shape)\n"
      ],
      "metadata": {
        "colab": {
          "base_uri": "https://localhost:8080/"
        },
        "id": "ZoutYNhTfckN",
        "outputId": "ca59ebb8-3fb1-4397-852e-4493bf1ef451"
      },
      "execution_count": 30,
      "outputs": [
        {
          "output_type": "stream",
          "name": "stdout",
          "text": [
            "<class 'numpy.ndarray'>\n",
            "(142524, 3)\n"
          ]
        }
      ]
    },
    {
      "cell_type": "code",
      "source": [
        "X = df.drop('total_sales', axis=1)\n",
        "y = df['total_sales']\n"
      ],
      "metadata": {
        "id": "j428lky8fcnF"
      },
      "execution_count": 31,
      "outputs": []
    },
    {
      "cell_type": "code",
      "source": [
        "# Check if there are any datetime columns (e.g., 'date' column)\n",
        "X['date'] = pd.to_datetime(X['date'])  # Convert to datetime if not already\n",
        "\n",
        "# Extract features from the datetime column\n",
        "X['year'] = X['date'].dt.year\n",
        "X['month'] = X['date'].dt.month\n",
        "X['day'] = X['date'].dt.day\n",
        "X['day_of_week'] = X['date'].dt.dayofweek\n",
        "X['day_of_year'] = X['date'].dt.dayofyear\n",
        "\n",
        "# Optionally, drop the original 'date' column if no longer needed\n",
        "X = X.drop(columns=['date'])\n"
      ],
      "metadata": {
        "id": "YUNFTiWtfcqK"
      },
      "execution_count": 32,
      "outputs": []
    },
    {
      "cell_type": "code",
      "source": [
        "from sklearn.preprocessing import LabelEncoder\n",
        "\n",
        "# Example: If 'ticket_use' is a categorical column with values like 'Low', 'High'\n",
        "encoder = LabelEncoder()\n",
        "X['ticket_use'] = encoder.fit_transform(X['ticket_use'])\n"
      ],
      "metadata": {
        "id": "67ikKV2MfctL"
      },
      "execution_count": 33,
      "outputs": []
    },
    {
      "cell_type": "code",
      "source": [
        "X = pd.get_dummies(X, columns=['cinema_code', 'ticket_use'])  # For example, encoding 'cinema_code' and 'ticket_use'\n"
      ],
      "metadata": {
        "id": "PkWGoGalfcwB"
      },
      "execution_count": 34,
      "outputs": []
    },
    {
      "cell_type": "code",
      "source": [
        "X = X.drop([col for col in X.columns if 'ticket_use_' in col], axis=1)\n"
      ],
      "metadata": {
        "id": "XV7KPLvvfczK"
      },
      "execution_count": 35,
      "outputs": []
    },
    {
      "cell_type": "code",
      "source": [
        "X = pd.get_dummies(X, columns=['month', 'quarter'], drop_first=True)\n"
      ],
      "metadata": {
        "id": "PX1HZbrmfc2N"
      },
      "execution_count": 36,
      "outputs": []
    },
    {
      "cell_type": "code",
      "source": [
        "#Random Forest Regressor"
      ],
      "metadata": {
        "id": "k2Ey6TS9fc5m"
      },
      "execution_count": 37,
      "outputs": []
    },
    {
      "cell_type": "code",
      "source": [
        "from sklearn.model_selection import train_test_split\n",
        "from sklearn.ensemble import RandomForestRegressor\n",
        "from sklearn.metrics import mean_squared_error, r2_score\n"
      ],
      "metadata": {
        "id": "HhLqhoWpfc8x"
      },
      "execution_count": 38,
      "outputs": []
    },
    {
      "cell_type": "code",
      "source": [
        "from sklearn.preprocessing import LabelEncoder\n",
        "from sklearn.preprocessing import OneHotEncoder\n",
        "from sklearn.compose import ColumnTransformer\n",
        "from sklearn.pipeline import Pipeline\n",
        "\n",
        "# Step 1: Identify columns with categorical data\n",
        "categorical_columns = X.select_dtypes(include=['object']).columns\n",
        "\n",
        "# Step 2: Apply LabelEncoder or OneHotEncoder\n",
        "# If your data has ordinal categories, you can apply LabelEncoder\n",
        "for col in categorical_columns:\n",
        "    encoder = LabelEncoder()\n",
        "    X[col] = encoder.fit_transform(X[col])\n",
        "\n",
        "# Step 3: Re-run your model training\n",
        "X_train, X_test, y_train, y_test = train_test_split(X, y, test_size=0.2, random_state=42)\n",
        "\n",
        "model = RandomForestRegressor(random_state=42)\n",
        "model.fit(X_train, y_train)\n",
        "\n",
        "y_pred = model.predict(X_test)\n",
        "\n",
        "# Evaluate the model\n",
        "mse = mean_squared_error(y_test, y_pred)\n",
        "r2 = r2_score(y_test, y_pred)\n",
        "\n",
        "print(f'Mean Squared Error: {mse}')\n",
        "print(f'R2 Score: {r2}')\n"
      ],
      "metadata": {
        "colab": {
          "base_uri": "https://localhost:8080/"
        },
        "id": "W4ibzEY7fc_l",
        "outputId": "8c87b20a-0369-4a8a-b30b-61245451cd69"
      },
      "execution_count": 39,
      "outputs": [
        {
          "output_type": "stream",
          "name": "stdout",
          "text": [
            "Mean Squared Error: 1956554063393.5034\n",
            "R2 Score: 0.9980382746606017\n"
          ]
        }
      ]
    },
    {
      "cell_type": "code",
      "source": [
        " #K-Nearest Neighbors (KNN), Decision Tree for Regression"
      ],
      "metadata": {
        "id": "FJ129q_Hf5tC"
      },
      "execution_count": 40,
      "outputs": []
    },
    {
      "cell_type": "code",
      "source": [
        "from sklearn.neighbors import KNeighborsRegressor\n",
        "from sklearn.tree import DecisionTreeRegressor\n",
        "from sklearn.metrics import mean_squared_error\n"
      ],
      "metadata": {
        "id": "w-ti-1_df5w1"
      },
      "execution_count": 41,
      "outputs": []
    },
    {
      "cell_type": "code",
      "source": [
        "from sklearn.impute import SimpleImputer\n",
        "from sklearn.model_selection import train_test_split\n",
        "from sklearn.preprocessing import StandardScaler # Import StandardScaler\n",
        "\n",
        "# Impute before scaling\n",
        "imputer = SimpleImputer(strategy='mean')  # or use strategy='median'\n",
        "X_imputed = imputer.fit_transform(X)\n",
        "\n",
        "# Now split and scale\n",
        "X_train, X_test, y_train, y_test = train_test_split(X_imputed, y, test_size=0.2, random_state=42)\n",
        "\n",
        "scaler = StandardScaler()\n",
        "X_train_scaled = scaler.fit_transform(X_train)\n",
        "X_test_scaled = scaler.transform(X_test)\n"
      ],
      "metadata": {
        "id": "Quw9QAaPf5zp"
      },
      "execution_count": 44,
      "outputs": []
    },
    {
      "cell_type": "code",
      "source": [
        "from sklearn.model_selection import GridSearchCV\n",
        "\n",
        "# KNN Hyperparameter tuning using GridSearchCV\n",
        "knn_param_grid = {'n_neighbors': [3, 5, 7, 9]}\n",
        "knn_grid = GridSearchCV(KNeighborsRegressor(), knn_param_grid, cv=5)\n",
        "knn_grid.fit(X_train_scaled, y_train)\n",
        "print(f\"Best KNN parameters: {knn_grid.best_params_}\")\n",
        "\n",
        "# Train with the best KNN model\n",
        "best_knn = knn_grid.best_estimator_\n",
        "y_pred_knn = best_knn.predict(X_test_scaled)\n",
        "mse_knn = mean_squared_error(y_test, y_pred_knn)\n",
        "print(f\"Tuned KNN Regression MSE: {mse_knn}\")\n",
        "\n",
        "# Decision Tree Hyperparameter tuning using GridSearchCV\n",
        "dt_param_grid = {'max_depth': [5, 10, 15, 20], 'min_samples_split': [2, 5, 10]}\n",
        "dt_grid = GridSearchCV(DecisionTreeRegressor(random_state=42), dt_param_grid, cv=5)\n",
        "dt_grid.fit(X_train_scaled, y_train)\n",
        "print(f\"Best Decision Tree parameters: {dt_grid.best_params_}\")\n",
        "\n",
        "# Train with the best Decision Tree model\n",
        "best_dt = dt_grid.best_estimator_\n",
        "y_pred_dt = best_dt.predict(X_test_scaled)\n",
        "mse_dt = mean_squared_error(y_test, y_pred_dt)\n",
        "print(f\"Tuned Decision Tree Regression MSE: {mse_dt}\")\n"
      ],
      "metadata": {
        "colab": {
          "base_uri": "https://localhost:8080/"
        },
        "id": "PmN_J8BKf52f",
        "outputId": "f8c19907-6d07-4699-d7f5-cd8a389ab96f"
      },
      "execution_count": 45,
      "outputs": [
        {
          "output_type": "stream",
          "name": "stdout",
          "text": [
            "Best KNN parameters: {'n_neighbors': 3}\n",
            "Tuned KNN Regression MSE: 51570002202892.79\n",
            "Best Decision Tree parameters: {'max_depth': 20, 'min_samples_split': 2}\n",
            "Tuned Decision Tree Regression MSE: 5632269839236.121\n"
          ]
        }
      ]
    },
    {
      "cell_type": "code",
      "source": [
        "from sklearn.impute import SimpleImputer\n",
        "from sklearn.model_selection import train_test_split\n",
        "from sklearn.preprocessing import StandardScaler\n",
        "\n",
        "# Step 1: Impute missing values\n",
        "imputer = SimpleImputer(strategy='mean')\n",
        "X_imputed = imputer.fit_transform(X)  # Assuming X is your full feature set\n",
        "\n",
        "# Step 2: Train-test split\n",
        "X_train, X_test, y_train, y_test = train_test_split(X_imputed, y, test_size=0.2, random_state=42)\n",
        "\n",
        "# Step 3: Optionally scale (good for KNN)\n",
        "scaler = StandardScaler()\n",
        "X_train_imputed = scaler.fit_transform(X_train)\n",
        "X_test_imputed = scaler.transform(X_test)\n"
      ],
      "metadata": {
        "id": "k0UbPuacf544"
      },
      "execution_count": 46,
      "outputs": []
    },
    {
      "cell_type": "code",
      "source": [
        "from sklearn.ensemble import RandomForestRegressor\n",
        "from sklearn.neighbors import KNeighborsRegressor\n",
        "from sklearn.tree import DecisionTreeRegressor\n",
        "from sklearn.metrics import mean_squared_error, r2_score, confusion_matrix, accuracy_score\n",
        "\n",
        "# Fit the models\n",
        "random_forest = RandomForestRegressor(n_estimators=100, random_state=42)\n",
        "knn = KNeighborsRegressor(n_neighbors=3)\n",
        "decision_tree = DecisionTreeRegressor(max_depth=20, random_state=42)\n",
        "random_forest.fit(X_train_imputed, y_train)\n",
        "knn.fit(X_train_imputed, y_train)\n",
        "decision_tree.fit(X_train_imputed, y_train)\n",
        "\n",
        "# Predictions\n",
        "rf_pred = random_forest.predict(X_test_imputed)\n",
        "knn_pred = knn.predict(X_test_imputed)\n",
        "dt_pred = decision_tree.predict(X_test_imputed)\n",
        "\n",
        "# Evaluate performance using MSE and R^2\n",
        "rf_mse = mean_squared_error(y_test, rf_pred)\n",
        "knn_mse = mean_squared_error(y_test, knn_pred)\n",
        "dt_mse = mean_squared_error(y_test, dt_pred)\n",
        "\n",
        "rf_r2 = r2_score(y_test, rf_pred)\n",
        "knn_r2 = r2_score(y_test, knn_pred)\n",
        "dt_r2 = r2_score(y_test, dt_pred)\n",
        "\n",
        "# Print the results\n",
        "print(f\"Random Forest Regressor MSE: {rf_mse}\")\n",
        "print(f\"KNN Regressor MSE: {knn_mse}\")\n",
        "print(f\"Decision Tree Regressor MSE: {dt_mse}\")\n",
        "\n",
        "print(f\"Random Forest Regressor R^2: {rf_r2}\")\n",
        "print(f\"KNN Regressor R^2: {knn_r2}\")\n",
        "print(f\"Decision Tree Regressor R^2: {dt_r2}\")\n",
        "\n"
      ],
      "metadata": {
        "colab": {
          "base_uri": "https://localhost:8080/"
        },
        "id": "5YZgxOOzf57t",
        "outputId": "1b2d5952-07a7-4e40-ea9c-cd42a23fab0c"
      },
      "execution_count": 47,
      "outputs": [
        {
          "output_type": "stream",
          "name": "stdout",
          "text": [
            "Random Forest Regressor MSE: 1921976135201.111\n",
            "KNN Regressor MSE: 51570002202892.79\n",
            "Decision Tree Regressor MSE: 5632269839236.121\n",
            "Random Forest Regressor R^2: 0.9980729439800895\n",
            "KNN Regressor R^2: 0.9482936955502389\n",
            "Decision Tree Regressor R^2: 0.9943528437733048\n"
          ]
        }
      ]
    },
    {
      "cell_type": "code",
      "source": [
        "#17: Predict the dependent variable by using best-fit classifier."
      ],
      "metadata": {
        "id": "Huj3VlpofdCb"
      },
      "execution_count": 48,
      "outputs": []
    },
    {
      "cell_type": "code",
      "source": [
        "# Fit the Random Forest Regressor (best model)\n",
        "best_regressor = RandomForestRegressor(n_estimators=100, random_state=42)\n",
        "best_regressor.fit(X_train_imputed, y_train)\n",
        "\n",
        "# Predict the dependent variable on test data\n",
        "y_pred_best = best_regressor.predict(X_test_imputed)\n",
        "\n",
        "# Evaluate the prediction performance\n",
        "from sklearn.metrics import mean_squared_error, r2_score\n",
        "\n",
        "mse_best = mean_squared_error(y_test, y_pred_best)\n",
        "r2_best = r2_score(y_test, y_pred_best)\n",
        "\n",
        "print(f\"Predicted MSE of Best Model (Random Forest): {mse_best}\")\n",
        "print(f\"Predicted R² of Best Model (Random Forest): {r2_best}\")\n"
      ],
      "metadata": {
        "colab": {
          "base_uri": "https://localhost:8080/"
        },
        "id": "3qfbix0IfdFC",
        "outputId": "55286510-a0eb-4d61-ab3c-351438e08912"
      },
      "execution_count": 49,
      "outputs": [
        {
          "output_type": "stream",
          "name": "stdout",
          "text": [
            "Predicted MSE of Best Model (Random Forest): 1921976135201.111\n",
            "Predicted R² of Best Model (Random Forest): 0.9980729439800895\n"
          ]
        }
      ]
    },
    {
      "cell_type": "code",
      "source": [
        "#18.\tPerform the cluster analysis such as K-means and Horizontal for any field from the chosen dataset"
      ],
      "metadata": {
        "id": "_31-JAsugK2H"
      },
      "execution_count": 51,
      "outputs": []
    },
    {
      "cell_type": "code",
      "source": [
        "from sklearn.cluster import KMeans\n",
        "import matplotlib.pyplot as plt\n",
        "import seaborn as sns\n",
        "\n",
        "# Choose a numerical field for clustering, e.g., 'total_sales'\n",
        "X_cluster = df[['total_sales']]  # Assuming 'total_sales' is a numerical field\n",
        "\n",
        "# Normalize the data (important for clustering)\n",
        "from sklearn.preprocessing import StandardScaler\n",
        "scaler = StandardScaler()\n",
        "X_scaled = scaler.fit_transform(X_cluster)\n",
        "\n",
        "# Apply K-means clustering\n",
        "kmeans = KMeans(n_clusters=3, random_state=42)\n",
        "df['Cluster'] = kmeans.fit_predict(X_scaled)\n",
        "\n",
        "# Visualize the clustering\n",
        "plt.figure(figsize=(10, 6))\n",
        "sns.scatterplot(data=df, x='total_sales', y='Cluster', palette='viridis')\n",
        "plt.title('K-means Clustering on Total Sales')\n",
        "plt.xlabel('Total Sales')\n",
        "plt.ylabel('Cluster')\n",
        "plt.show()\n",
        "\n",
        "# Optional: Show cluster centers\n",
        "print(\"Cluster Centers:\", kmeans.cluster_centers_)\n"
      ],
      "metadata": {
        "colab": {
          "base_uri": "https://localhost:8080/",
          "height": 651
        },
        "id": "tSiXhlnogK5U",
        "outputId": "45891708-5a04-4721-f062-656ec84f3f53"
      },
      "execution_count": 50,
      "outputs": [
        {
          "output_type": "stream",
          "name": "stderr",
          "text": [
            "<ipython-input-50-6541f13973ee>:19: UserWarning: Ignoring `palette` because no `hue` variable has been assigned.\n",
            "  sns.scatterplot(data=df, x='total_sales', y='Cluster', palette='viridis')\n"
          ]
        },
        {
          "output_type": "display_data",
          "data": {
            "text/plain": [
              "<Figure size 1000x600 with 1 Axes>"
            ],
            "image/png": "[encoded data removed]"
          },
          "metadata": {}
        },
        {
          "output_type": "stream",
          "name": "stdout",
          "text": [
            "Cluster Centers: [[-0.16912487]\n",
            " [11.57831193]\n",
            " [ 2.48951048]]\n"
          ]
        }
      ]
    }
  ]
}
